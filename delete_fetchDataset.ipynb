{
 "cells": [
  {
   "cell_type": "code",
   "execution_count": 1,
   "metadata": {},
   "outputs": [
    {
     "name": "stderr",
     "output_type": "stream",
     "text": [
      "/Users/baqia/miniforge3/envs/torch-gpu/lib/python3.10/site-packages/tqdm/auto.py:22: TqdmWarning: IProgress not found. Please update jupyter and ipywidgets. See https://ipywidgets.readthedocs.io/en/stable/user_install.html\n",
      "  from .autonotebook import tqdm as notebook_tqdm\n"
     ]
    },
    {
     "name": "stdout",
     "output_type": "stream",
     "text": [
      "Using mps device\n"
     ]
    }
   ],
   "source": [
    "import envf as env\n",
    "import pandas as pd\n",
    "root_address = \"/Users/baqia/concise_modularized_thesis_project_optimized_hyperparameters/\"\n",
    "import loadStuff as load\n",
    "import numpy as np"
   ]
  },
  {
   "cell_type": "code",
   "execution_count": 47,
   "metadata": {},
   "outputs": [],
   "source": [
    "#make a function to load the dataset and return the train and test dataframes. I have multiple datasets each with different number of classes,and column names. So I have to make a function for each dataset.\n",
    "\n",
    "root_address = \"/Users/baqia/concise_modularized_thesis_project_optimized_hyperparameters/\"\n",
    "def agnews():\n",
    "    columnNames = ['label','skip','text']\n",
    "    df = pd.read_csv(root_address + \"agnews\" +\"/\" + \"train.csv\",names = columnNames,skiprows=1)\n",
    "    df.drop(columns=['skip'],inplace=True)\n",
    "    df['label'] = df['label'].apply(lambda x : x -1)\n",
    "\n",
    "\n",
    "    return df\n",
    "\n",
    "def dbpedia():\n",
    "    columnNames = ['label','skip','text']\n",
    "    df = pd.read_csv(root_address + \"dbpedia\" +\"/\" + \"train.csv\",names = columnNames)\n",
    "\n",
    "\n",
    "    df.drop(columns=['skip'],inplace=True)\n",
    "    df['label'] = df['label'].apply(lambda x : x -1)\n",
    "\n",
    "    return df\n",
    "    \n",
    "def r2():\n",
    "    columnNames = ['label','text']\n",
    "    df = pd.read_csv(root_address + \"r2\" +\"/\" + \"r2.csv\",names = columnNames)\n",
    "    \n",
    "    return df,df\n",
    "\n",
    "def r5():\n",
    "    columnNames = ['label','text']\n",
    "    df = pd.read_csv(root_address + \"r5\" +\"/\" + \"r5.csv\",names = columnNames)\n",
    "    return df,df"
   ]
  },
  {
   "cell_type": "code",
   "execution_count": null,
   "metadata": {},
   "outputs": [],
   "source": [
    "#filter number of samples\n",
    "def filteredDataset(datasetName):\n",
    "    # if dataset is agnews call agnews function\n",
    "\n",
    "    if datasetName == \"agnews\":\n",
    "        df = agnews()\n",
    "    elif datasetName == \"dbpedia\":\n",
    "        df = dbpedia()\n",
    "    elif datasetName == \"r2\":\n",
    "        df = r2()\n",
    "    elif datasetName == \"r5\":\n",
    "        df = r5()\n",
    "        \n",
    "    \n",
    "\n",
    "\n",
    "    #extract 1000 random samples of each label from df\n",
    "\n",
    "    df = df.groupby('label').apply(lambda x: x.sample(n=1000,random_state=11)).reset_index(drop = True)\n",
    "    return df\n",
    "\n",
    "df = filteredDataset(\"r2\")\n",
    "\n",
    "df.head(-10)\n"
   ]
  },
  {
   "cell_type": "code",
   "execution_count": null,
   "metadata": {},
   "outputs": [],
   "source": [
    "\n",
    "import os\n",
    "import pandas as pd\n",
    "from bs4 import BeautifulSoup\n",
    "import envf as env\n",
    "root_address = \"/Users/baqia/concise_modularized_thesis_project_optimized_hyperparameters/\"\n",
    "data = []\n",
    "extracted_folder_path = './r2/'\n",
    "# Iterate over the extracted files and parse the .sgm files\n",
    "extracted_files = os.listdir(root_address + env.DATASET_NAME +\"/\")\n",
    "for file_name in [f for f in extracted_files if f.endswith('.sgm')]:\n",
    "    file_path = os.path.join(extracted_folder_path, file_name)\n",
    "    \n",
    "    # Read and parse the content of the .sgm file\n",
    "    with open(file_path, 'r', encoding='latin-1') as file:\n",
    "        content = file.read()\n",
    "    soup = BeautifulSoup(content, 'html.parser')\n",
    "    \n",
    "    # Extract documents and categories\n",
    "    for doc in soup.find_all('reuters'):\n",
    "        text = doc.find('text')\n",
    "        body = text.find('body') if text else None\n",
    "        document_text = body.get_text(strip=True) if body else ''\n",
    "        #remove '\\n' from the document text\n",
    "        document_text = document_text.replace('\\n','')\n",
    "        topics = doc.find('topics')\n",
    "        document_categories = [topic.get_text(strip=True) for topic in topics.find_all('d') if topic]\n",
    "        \n",
    "        data.append({\n",
    "            'Document': document_text,\n",
    "            'Categories': document_categories\n",
    "        })\n",
    "\n",
    "# Create a DataFrame and filter it for 'earn' and 'acq' categories\n",
    "df_reuters = pd.DataFrame(data)\n",
    "df_earn_acq = df_reuters[df_reuters['Categories'].apply(lambda x: 'earn' in x or 'acq' in x)].copy()\n",
    "\n",
    "# Remove the documents shared by both categories and rows where the document is empty\n",
    "df_earn_acq_cleaned = df_earn_acq[df_earn_acq['Categories'].apply(lambda x: not ('earn' in x and 'acq' in x)) & (df_earn_acq['Document'] != '')].copy()\n",
    "\n",
    "# Replace the 'Categories' column values with 0 for 'earn' and 1 for 'acq'\n",
    "df_earn_acq_cleaned['Categories'] = df_earn_acq_cleaned['Categories'].apply(lambda x: 0 if 'earn' in x else 1)\n",
    "print(df_earn_acq_cleaned.shape)\n",
    "\n",
    "# Save the DataFrame as a .csv file\n",
    "df_earn_acq_cleaned.to_csv(root_address +'r2/r2.csv', index=False)\n"
   ]
  },
  {
   "cell_type": "code",
   "execution_count": 16,
   "metadata": {},
   "outputs": [],
   "source": [
    "\n",
    "import os\n",
    "from bs4 import BeautifulSoup\n",
    "import pandas as pd\n",
    "import envf as env\n",
    "root_address = \"/Users/baqia/concise_modularized_thesis_project_optimized_hyperparameters/\"\n",
    "# Specify the folder path where the dataset is extracted\n",
    "extracted_folder_path = './r5/'\n",
    "\n",
    "# Parsing the Dataset and Creating DataFrame\n",
    "data = []\n",
    "extracted_files = os.listdir(extracted_folder_path)\n",
    "\n",
    "for file_name in extracted_files:\n",
    "    if file_name.endswith('.sgm'):\n",
    "        file_path = os.path.join(extracted_folder_path, file_name)\n",
    "        with open(file_path, 'r', encoding='latin-1') as file:\n",
    "            content = file.read()\n",
    "        soup = BeautifulSoup(content, 'html.parser')\n",
    "        for doc in soup.find_all('reuters'):\n",
    "            text = doc.find('text')\n",
    "            body = text.find('body')\n",
    "            document_text = body.get_text(strip=True) if body else ''\n",
    "            topics = doc.find('topics')\n",
    "            document_categories = [topic.get_text(strip=True) for topic in topics.find_all('d')]\n",
    "            data.append({'Document': document_text, 'Categories': document_categories})\n",
    "\n",
    "df_reuters = pd.DataFrame(data)\n",
    "\n",
    "# Filtering and Cleaning DataFrame\n",
    "target_categories = ['earn', 'acq', 'crude', 'trade', 'money-fx']\n",
    "filtered_df = df_reuters[df_reuters['Categories'].apply(lambda x: any(category in target_categories for category in x))] #filter classes\n",
    "filtered_df = filtered_df[filtered_df['Document'].apply(lambda x: len(x.strip()) > 0)] #empty document\n",
    "single_category_df = filtered_df[filtered_df['Categories'].apply(lambda x: len(set(x).intersection(target_categories)) == 1)].copy()\n",
    "\n",
    "#remove items from Category item's list that are not in target_categories\n",
    "single_category_df['Categories'] = single_category_df['Categories'].apply(lambda x: list(set(x).intersection(target_categories)))\n",
    "# Replacing Categories and Modifying DataFrame\n",
    "category_mapping = {'earn': 0, 'acq': 1, 'crude': 2, 'trade': 3, 'money-fx': 4}\n",
    "single_category_df['Category'] = single_category_df['Categories'].apply(lambda x: category_mapping.get(x[0], -1))\n",
    "single_category_df.drop(columns=['Categories'], inplace=True)\n",
    "print(single_category_df.shape)\n",
    "# Save the DataFrame as a .csv file\n",
    "# single_category_df.to_csv(root_address + 'r5/r5.csv', index=False)"
   ]
  },
  {
   "cell_type": "code",
   "execution_count": null,
   "metadata": {},
   "outputs": [],
   "source": [
    "\n",
    "single_category_df['Document'].apply(lambda x: len(x)).max()"
   ]
  },
  {
   "cell_type": "code",
   "execution_count": null,
   "metadata": {},
   "outputs": [],
   "source": [
    "\n",
    "single_category_df['Category'].value_counts()"
   ]
  },
  {
   "cell_type": "code",
   "execution_count": null,
   "metadata": {},
   "outputs": [],
   "source": [
    "\n",
    "#load r2 and r5 datasets\n",
    "import pandas as pd\n",
    "import envf as env\n",
    "\n",
    "root_address = \"/Users/baqia/concise_modularized_thesis_project_optimized_hyperparameters/\"\n",
    "def r2():\n",
    "    df = pd.read_csv(root_address + \"r2\" +\"/\" + \"r2.csv\")\n",
    "    return df\n",
    "\n",
    "def r5():\n",
    "    df = pd.read_csv(root_address + \"r5\" +\"/\" + \"r5.csv\")\n",
    "    return df\n",
    "\n",
    "df = r5()\n",
    "df.head(-10)\n",
    "\n"
   ]
  },
  {
   "cell_type": "code",
   "execution_count": 39,
   "metadata": {},
   "outputs": [],
   "source": [
    "df = pd.read_csv(path,names=['label','QuesTitle','quesContent','best_answer'])\n",
    "#remove samples with no best answer\n",
    "df = df[df['best_answer'].notna()]\n",
    "#replace quesConcent NAN with empty string\n",
    "df['quesContent'].fillna('',inplace=True)\n",
    "df['text'] = df['QuesTitle'] + df['quesContent'] + df['best_answer']\n",
    "df.drop(columns=['QuesTitle','quesContent','best_answer'],inplace=True)\n"
   ]
  },
  {
   "cell_type": "code",
   "execution_count": 36,
   "metadata": {},
   "outputs": [],
   "source": [
    "df['text'] = df['QuesTitle'] + df['quesContent'] + df['best_answer']"
   ]
  },
  {
   "cell_type": "code",
   "execution_count": 38,
   "metadata": {},
   "outputs": [
    {
     "data": {
      "text/plain": [
       "0"
      ]
     },
     "execution_count": 38,
     "metadata": {},
     "output_type": "execute_result"
    }
   ],
   "source": [
    "df['QuesTitle'].isna().sum()"
   ]
  },
  {
   "cell_type": "code",
   "execution_count": 40,
   "metadata": {},
   "outputs": [
    {
     "name": "stdout",
     "output_type": "stream",
     "text": [
      "label               0\n",
      "QuesTitle           0\n",
      "quesContent    621766\n",
      "best_answer         0\n",
      "dtype: int64\n"
     ]
    }
   ],
   "source": [
    "# print number of nan values\n",
    "print(df.isna().sum())"
   ]
  },
  {
   "cell_type": "code",
   "execution_count": 43,
   "metadata": {},
   "outputs": [],
   "source": [
    "path = \"/Users/baqia/Downloads/yahoo_answers_csv/train.csv\"\n",
    "\n",
    "#load the csv file it contains 4 columns. 1st column has class index (1 to 10),second has question title,third has question content and fourth has best answer. Concatinate the 2,3,4th column and drop the original ones. Rename the columns as label and text\n",
    "df = pd.read_csv(path,names=['label','QuesTitle','quesContent','best_answer'])\n",
    "df = df[df['best_answer'].notna()] #remove samples where there is no best answer because thats what we are picking for every other sample\n",
    "df['quesContent'].fillna('',inplace=True) #fill nan values with empty string bcos next step adds nan to the string which is NAN\n",
    "df['text'] = df['QuesTitle'] + df['quesContent'] + df['best_answer']\n",
    "df.drop(columns=['QuesTitle','quesContent','best_answer'],inplace=True)\n",
    "df['label'] = df['label'].apply(lambda x : x -1)\n",
    "df.head(-10)\n",
    "\n",
    "\n",
    "# store this dataframe as a csv file at \"/Users/baqia/concise_modularized_thesis_project_optimized_hyperparameters/yahoo\"\n",
    "df.to_csv(root_address + \"yahoo\" +\"/\" + \"train.csv\",index=False)"
   ]
  },
  {
   "cell_type": "code",
   "execution_count": 42,
   "metadata": {},
   "outputs": [
    {
     "name": "stderr",
     "output_type": "stream",
     "text": [
      "/var/folders/nx/yktv6qmd5h76h8vcy2mwth5h0000gn/T/ipykernel_67353/2584064272.py:6: UserWarning: \n",
      "\n",
      "`distplot` is a deprecated function and will be removed in seaborn v0.14.0.\n",
      "\n",
      "Please adapt your code to use either `displot` (a figure-level function with\n",
      "similar flexibility) or `histplot` (an axes-level function for histograms).\n",
      "\n",
      "For a guide to updating your code to use the new functions, please see\n",
      "https://gist.github.com/mwaskom/de44147ed2974457ad6372750bbe5751\n",
      "\n",
      "  sns.distplot(df['text'].apply(lambda x: len(x)), bins=100)\n"
     ]
    },
    {
     "data": {
      "image/png": "[encoded data removed]",
      "text/plain": [
       "<Figure size 1000x700 with 1 Axes>"
      ]
     },
     "metadata": {},
     "output_type": "display_data"
    }
   ],
   "source": [
    "# plot the distribution of length of the text in the dataset\n",
    "import matplotlib.pyplot as plt\n",
    "import seaborn as sns\n",
    "sns.set()\n",
    "plt.figure(figsize=(10, 7))\n",
    "sns.distplot(df['text'].apply(lambda x: len(x)), bins=100)\n",
    "plt.xlabel('Length of text')\n",
    "plt.ylabel('Number of texts')\n",
    "plt.title('Distribution of text length')\n",
    "plt.show()\n"
   ]
  },
  {
   "cell_type": "markdown",
   "metadata": {},
   "source": [
    "<h2><center>creating splits</center></h2>"
   ]
  },
  {
   "cell_type": "code",
   "execution_count": 2,
   "metadata": {},
   "outputs": [
    {
     "name": "stdout",
     "output_type": "stream",
     "text": [
      "0    749\n",
      "1    426\n",
      "4    130\n",
      "2    101\n",
      "3     99\n",
      "Name: label, dtype: int64\n"
     ]
    }
   ],
   "source": [
    "df = load.r5()\n",
    "df = df.sample(frac=1).reset_index(drop=True)\n",
    "folds = np.array_split(df, 5)\n",
    "print(folds[4]['label'].value_counts())\n",
    "#store the folds in a pickle file\n",
    "import pickle\n",
    "with open(root_address + \"r5\" +\"/\" + \"folds.pickle\", 'wb') as f:\n",
    "    pickle.dump(folds, f)\n",
    "#load the folds from the pickle file\n",
    "import pickle\n",
    "with open(root_address + \"r5\" +\"/\" + \"folds.pickle\", 'rb') as f:\n",
    "    folds = pickle.load(f)"
   ]
  },
  {
   "cell_type": "code",
   "execution_count": 2,
   "metadata": {},
   "outputs": [
    {
     "name": "stdout",
     "output_type": "stream",
     "text": [
      "3    1217\n",
      "0     998\n",
      "2     988\n",
      "1     797\n",
      "Name: label, dtype: int64\n"
     ]
    }
   ],
   "source": [
    "\n",
    "df = load.agnews()\n",
    "x = 4000\n",
    "folds = []\n",
    "for i in range(5):\n",
    "    start_idx = i * x\n",
    "    end_idx = start_idx + x\n",
    "    folds.append(df.iloc[start_idx:end_idx].reset_index(drop=True))\n",
    "print(folds[0]['label'].value_counts())\n",
    "#store the folds in a pickle file\n",
    "import pickle\n",
    "with open(root_address + \"agnews\" +\"/\" + \"folds.pickle\", 'wb') as f:\n",
    "    pickle.dump(folds, f)\n",
    "\n",
    "#load the folds from the pickle file\n",
    "import pickle\n",
    "with open(root_address + \"agnews\" +\"/\" + \"folds.pickle\", 'rb') as f:\n",
    "    folds = pickle.load(f)\n",
    "    "
   ]
  },
  {
   "cell_type": "code",
   "execution_count": 2,
   "metadata": {},
   "outputs": [
    {
     "name": "stdout",
     "output_type": "stream",
     "text": [
      "3     1056\n",
      "0     1041\n",
      "4     1032\n",
      "5     1024\n",
      "8     1016\n",
      "12    1006\n",
      "6     1006\n",
      "2     1001\n",
      "10     993\n",
      "7      981\n",
      "1      975\n",
      "9      968\n",
      "13     953\n",
      "11     948\n",
      "Name: label, dtype: int64\n"
     ]
    }
   ],
   "source": [
    "df = load.dbpedia()\n",
    "\n",
    "x = 14000\n",
    "\n",
    "folds = []\n",
    "df = df.sample(frac=1).reset_index(drop=True)\n",
    "for i in range(5):\n",
    "    start_idx = i * x\n",
    "    end_idx = start_idx + x\n",
    "    folds.append(df.iloc[start_idx:end_idx].reset_index(drop=True))\n",
    "\n",
    "print(folds[0]['label'].value_counts())\n",
    "#store the folds in a pickle file\n",
    "import pickle\n",
    "with open(root_address + \"dbpedia\" +\"/\" + \"folds.pickle\", 'wb') as f:\n",
    "    pickle.dump(folds, f)\n",
    "\n",
    "#load the folds from the pickle file\n",
    "import pickle\n",
    "with open(root_address + \"dbpedia\" +\"/\" + \"folds.pickle\", 'rb') as f:\n",
    "    folds = pickle.load(f)\n",
    "    "
   ]
  },
  {
   "cell_type": "code",
   "execution_count": 3,
   "metadata": {},
   "outputs": [
    {
     "name": "stdout",
     "output_type": "stream",
     "text": [
      "5    1042\n",
      "9    1029\n",
      "2    1025\n",
      "6    1022\n",
      "3    1020\n",
      "8    1006\n",
      "7    1001\n",
      "0     985\n",
      "4     940\n",
      "1     930\n",
      "Name: label, dtype: int64\n"
     ]
    }
   ],
   "source": [
    "df = load.yahoo()\n",
    "\n",
    "x = 10000\n",
    "\n",
    "folds = []\n",
    "df = df.sample(frac=1).reset_index(drop=True)\n",
    "for i in range(5):\n",
    "    start_idx = i * x\n",
    "    end_idx = start_idx + x\n",
    "    folds.append(df.iloc[start_idx:end_idx].reset_index(drop=True))\n",
    "\n",
    "print(folds[0]['label'].value_counts())\n"
   ]
  },
  {
   "cell_type": "code",
   "execution_count": 4,
   "metadata": {},
   "outputs": [],
   "source": [
    "\n",
    "#store the folds in a pickle file\n",
    "import pickle\n",
    "with open(root_address + \"yahoo\" +\"/\" + \"folds.pickle\", 'wb') as f:\n",
    "    pickle.dump(folds, f)\n",
    "\n",
    "#load the folds from the pickle file\n",
    "import pickle\n",
    "with open(root_address + \"yahoo\" +\"/\" + \"folds.pickle\", 'rb') as f:\n",
    "    folds = pickle.load(f)"
   ]
  },
  {
   "cell_type": "code",
   "execution_count": null,
   "metadata": {},
   "outputs": [],
   "source": []
  }
 ],
 "metadata": {
  "kernelspec": {
   "display_name": "Python 3",
   "language": "python",
   "name": "python3"
  },
  "language_info": {
   "codemirror_mode": {
    "name": "ipython",
    "version": 3
   },
   "file_extension": ".py",
   "mimetype": "text/x-python",
   "name": "python",
   "nbconvert_exporter": "python",
   "pygments_lexer": "ipython3",
   "version": "3.10.8"
  },
  "orig_nbformat": 4
 },
 "nbformat": 4,
 "nbformat_minor": 2
}
