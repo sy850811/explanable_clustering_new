{
 "cells": [
  {
   "cell_type": "code",
   "execution_count": 10,
   "metadata": {},
   "outputs": [],
   "source": [
    "#wikifier function\n",
    "import urllib.request, urllib.parse, urllib.error\n",
    "import json\n",
    "import time\n",
    "import pandas as pd\n",
    "import threading\n",
    "import requests \n",
    "pool = threading.BoundedSemaphore(20)\n",
    "import json\n",
    "import importlib\n",
    "load = importlib.import_module(\"loadStuff\")\n",
    "env = importlib.import_module(\"envf\")\n",
    "root_address = env.root_address\n",
    "counter = 0\n",
    "import requests\n",
    "import json\n",
    "import time"
   ]
  },
  {
   "cell_type": "code",
   "execution_count": 2,
   "metadata": {},
   "outputs": [],
   "source": [
    "\n",
    "\n",
    "# Function to extract titles from the Wikifier response\n",
    "def extract_titles(document_wikifier_response):\n",
    "    titles = []\n",
    "    for i in range(len(document_wikifier_response[\"annotations\"])):\n",
    "        titles.append(document_wikifier_response[\"annotations\"][i][\"title\"])\n",
    "    return titles\n",
    "\n",
    "# Function for the worker thread\n",
    "def worker(text, document_concepts):\n",
    "    while True:\n",
    "        try:\n",
    "            r = requests.post(url=\"http://www.wikifier.org/annotate-article\", data=[\n",
    "                (\"text\", text), (\"lang\", \"en\"),\n",
    "                (\"userKey\", \"kqnkkwmvxluxwfuqjsihpirotsopzb\"),\n",
    "                (\"pageRankSqThreshold\", \"%g\" % 0.85), (\"applyPageRankSqThreshold\", \"true\"),\n",
    "                (\"nTopDfValuesToIgnore\", \"200\"), (\"nWordsToIgnoreFromList\", \"200\"),\n",
    "                (\"wikiDataClasses\", \"false\"), (\"wikiDataClassIds\", \"false\"),\n",
    "                (\"support\", \"false\"), (\"ranges\", \"false\"), (\"minLinkFrequency\", \"2\"),\n",
    "                (\"includeCosines\", \"false\"), (\"maxMentionEntropy\", \"3\")\n",
    "            ])\n",
    "            if r.status_code == 200:\n",
    "                global counter\n",
    "                counter += 1\n",
    "                document_concepts[text] = extract_titles(json.loads(r.text))\n",
    "                break\n",
    "            else:\n",
    "                # print(\"error: Status Code\", r.status_code)\n",
    "                time.sleep(2)  # Sleep for 2 seconds before retrying the request\n",
    "        except requests.exceptions.RequestException as e:\n",
    "            print(\"ConnectionError:\", e)\n",
    "            time.sleep(2)  # Sleep for 2 seconds before retrying the request\n",
    "\n",
    "    pool.release()\n",
    "\n",
    "# Function to annotate a cluster of documents\n",
    "def datasetWikifier():\n",
    "\n",
    "\n",
    "    ## fetch documents\n",
    "    df= load.test_train_dataset()\n",
    "    documents = df[\"text\"].tolist()\n",
    "\n",
    "\n",
    "    ## annotate documents\n",
    "    no_of_threads_already_running = threading.active_count()\n",
    "    document_concepts = {}\n",
    "\n",
    "    for text in documents:\n",
    "        pool.acquire(blocking=True)\n",
    "        t = threading.Thread(target=worker, args=(text,document_concepts))\n",
    "        t.start()\n",
    "\n",
    "    while threading.active_count() > no_of_threads_already_running:\n",
    "        print(\"waiting\",threading.active_count())\n",
    "        time.sleep(2)\n",
    "    print(\"done\")\n",
    "\n",
    "\n",
    "    ## save annotated documents\n",
    "    with open(root_address + env. \"annotation.json\", 'w') as f:\n",
    "        json.dump(document_concepts, f)\n"
   ]
  },
  {
   "cell_type": "code",
   "execution_count": 3,
   "metadata": {},
   "outputs": [
    {
     "name": "stdout",
     "output_type": "stream",
     "text": [
      "(120000, 3)\n",
      "(7600, 3)\n",
      "(120000, 2)\n",
      "(7600, 2)\n",
      "waiting 26\n",
      "done\n"
     ]
    }
   ],
   "source": [
    "datasetWikifier()"
   ]
  },
  {
   "cell_type": "code",
   "execution_count": 4,
   "metadata": {},
   "outputs": [],
   "source": [
    "def annotate_cluster_documents():\n",
    "    clusters, centroids,trueLabels = load.clusters_n_centroids_n_labels()\n",
    "    with open(root_address + \"annotation.json\", 'r') as f:\n",
    "        annotatedDocuments = json.load(f)\n",
    "    for c_no in range(len(clusters)):\n",
    "        document_concepts = []\n",
    "        for document_no in range(len(clusters[cluster_no])):\n",
    "            document_concepts.append(annotatedDocuments[clusters[cluster_no][document_no]])\n",
    "        with open(root_address + \"training_data_wikification\"+str(c_no)+\".json\", 'w') as f:\n",
    "            json.dump(document_concepts, f)\n",
    "        print(\"done with cluster \",c_no)\n",
    "\n",
    "            "
   ]
  },
  {
   "cell_type": "code",
   "execution_count": 5,
   "metadata": {},
   "outputs": [],
   "source": [
    "x = load.wikifier_concepts()"
   ]
  },
  {
   "cell_type": "code",
   "execution_count": 6,
   "metadata": {},
   "outputs": [
    {
     "name": "stdout",
     "output_type": "stream",
     "text": [
      "[['General Motors', 'Automotive industry', 'Europe', 'North America'], ['Greenwich Mean Time', 'United States Treasury security', 'Trade', 'Price of oil', 'Petroleum', 'Economy of the United States'], ['Agence France-Presse', 'International Monetary Fund', 'Rodrigo Rato', 'Soviet Union', 'Vladimir Putin', 'Inflation', 'Gross domestic product'], ['Shareholder', 'The Walt Disney Company', 'Michael Ovitz'], ['South Africa', 'Mining', 'Gold mining', 'Gold Fields', 'Iamgold', 'Toronto', 'Harmony Gold (mining)'], ['Reuters', 'Federal government of the United States', 'Enron', 'Corporation', 'Stock', 'Chairperson', 'Kenneth Lay', 'Mergers and acquisitions', 'Bankruptcy'], ['Bankruptcy', 'Judge', 'Federal government of the United States', 'US Airways', 'Trade union', 'Working class', 'Airline', 'Time bomb'], ['PeopleSoft', 'Chief executive officer'], ['Conrad Black', 'United States', 'Lawsuit', 'The Daily Telegraph', 'Sun-Times Media Group'], ['AT&T Mobility', 'Wireless', 'United States dollar', 'Mergers and acquisitions'], ['Apple Inc.'], ['Government of Russia', 'Yukos', 'The Moscow Times', 'Moscow', 'Yury Trutnev'], ['Bill Gates', 'Washington Commanders', 'Daniel Snyder', 'Six Flags'], ['Electronics', 'Electronic Data Systems', 'DXC Technology', 'Computer', 'Corporation', 'Siebel Systems'], ['Sun Microsystems', 'Jonathan I. Schwartz', 'Red Hat', 'Red Hat Linux', 'Linux', 'X86', 'Daemon (computing)'], ['Japan', 'Mizuho Financial Group', 'Sumitomo Group', 'Sumitomo Mitsui Banking Corporation'], ['Reuters', 'Mortgage loan'], ['Reuters', 'United States', 'Tuberculosis'], ['Price of oil', 'Petroleum', 'Gulf of Mexico', 'Mexico'], ['Tokyo', 'Reuters', 'United States dollar', 'Technology', 'NEC', 'Corporation'], ['Tokyo', 'George W. Bush'], ['Corporation', 'Chief financial officer', 'Wall Street', 'Andrew Fastow', 'Merrill (company)', 'Call option', 'Fraud'], ['Inflation', 'Bank of England'], ['Reuters', 'Arch Resources', 'Coal', 'Mining'], ['Business Wire', 'Nvidia', 'Corporation', 'Intel', 'Patent'], ['Venezuela', 'Hugo Chávez', 'Petroleum'], ['The Conference Board', 'Economy', 'Economic growth', 'Price of oil'], ['California', 'CalPERS', 'Employment', 'Corporation'], ['Louisiana', 'Agriculture', 'Plant breeding', 'Mississippi', 'Fungus', 'Soybean', 'Soybean rust', 'Rust', 'Fungicide'], ['Reuters', 'Corporation', 'Beauty salon', 'Franchising', 'Profit (accounting)', 'Sales', 'Economic growth', 'Walmart', 'Retail'], ['Florida', 'Grapefruit'], ['Reuters', 'Tropical cyclone', 'Gulf of Mexico', 'Mexico', 'United States'], ['Reuters', 'Stock', 'Dell', 'Indian National Congress', 'Personal computer', 'Economic growth'], ['Black Friday (shopping)', 'Christmas'], ['Hong Kong', 'Pest control', 'President of the United States', 'Service (economics)', 'Rentokil Initial', 'United States dollar'], ['Google', 'Initial public offering', 'Internment Serial Number', 'Internet', 'United States'], ['Reuters', 'Enron', 'Corporation', 'Stock', 'Chief executive officer', 'Jeffrey Skilling', 'United States District Court for the Southern District of New York', 'Criminal procedure', 'Kenneth Lay'], ['HBOS', 'Abbey National', 'Spain', 'Santander, Spain'], ['Democratic Party (United States)', 'Fannie Mae'], ['Australian dollar', 'United States dollar'], ['Conrad Black', 'Canadian dollar'], ['Volkswagen']]\n"
     ]
    }
   ],
   "source": [
    "print(x[0])"
   ]
  },
  {
   "cell_type": "code",
   "execution_count": 7,
   "metadata": {},
   "outputs": [
    {
     "name": "stdout",
     "output_type": "stream",
     "text": [
      "[['Manchester United F.C.', 'Alex Ferguson'], [], ['Japanese language', 'Japanese Grand Prix', 'Typhoon', 'Suzuka, Mie', 'Rain'], ['Tata Consultancy Services', 'Formula One', 'Information technology'], ['Tim Henman', 'Roger Federer', 'US Open (tennis)'], ['Woburn, Bedfordshire', 'Colin Montgomerie', 'Ryder Cup'], ['Arizona', 'Jamar Williams', 'Michael Jordan', 'Jordan Hill (basketball)', 'Oregon', 'Pac-12 Conference', 'Major League Baseball', 'The Baltimore Sun', 'Arizona State Sun Devils football', 'Oregon State Beavers football', 'Joe Newton (coach)', 'Touchback'], ['State police', 'Alcohol intoxication', 'National Football League', 'Justin Strzelczyk'], ['Ryan Newman (racing driver)', 'Pole position', 'Atlanta Motor Speedway', 'Indianapolis Motor Speedway', 'Georgia-Pacific'], ['Jason Terry', 'Dallas Mavericks', 'New York Knicks'], ['Boston Red Sox', 'Major League Baseball', 'Matt Clement', 'San Diego Padres', 'Farm team', 'Theo Epstein'], ['Tom Coughlin', 'Detroit'], ['Fred Couples', 'WGC Championship'], ['Dave Andreychuk', 'Stanley Cup'], ['Graeme Smith'], ['Goods', 'Mutual fund', 'Ronald S. Baron'], ['Markko Märtin', 'Rallying', 'Rally de Catalunya'], ['Minardi', 'Paul Stoddart'], ['Busch Stadium', 'Hard Rock Stadium', 'Baseball field', 'National League Championship Series', 'Houston Astros'], ['Detroit Pistons', 'Los Angeles Clippers', 'National Basketball Association', 'Elton Brand'], ['Reuters', 'Justin Gatlin', 'Olympic Games', 'Summer Olympic Games', 'Sprint (running)'], ['Michael Schumacher', 'Formula One'], ['Tiger Woods', 'Golf', 'Japan Golf Tour'], ['Grace Park (golfer)', 'Wachovia LPGA Classic', 'LPGA'], ['Jorge Posada', 'Puerto Rico'], ['Spain', 'England', 'Ashley Cole'], ['Gainesville, Florida', 'Steve Spurrier', 'Florida Gators'], ['PGA Tour'], ['Volleyball'], ['Arsène Wenger', 'Arsenal F.C.', 'Emirates Stadium'], ['Chelsea F.C.', 'Forward (association football)', 'EFL Cup', 'West Ham United F.C.'], ['Latrell Sprewell'], ['Athens', 'Lauryn Williams', 'American English'], ['Wales national football team', 'Dean Saunders', 'Philippe Troussier'], ['International Olympic Committee', 'Jacques Rogge', 'Italy', 'Silvio Berlusconi', 'Turin', 'Winter Olympic Games'], ['Television', 'Television show', 'East Lansing, Michigan', 'Lansing, Michigan', 'Michigan', 'Wide receiver', 'Irving, Texas', 'MacGyver (1985 TV series)', 'Bachelor of Arts', 'B. A. Baracus', 'Hannibal', 'John \"Hannibal\" Smith', 'The A-Team', 'Sitcom', 'Richard Dean Anderson'], ['Quarterback', 'Steve McNair', 'Free agent', 'Sternum'], ['Reuters', 'Miami Dolphins', 'Ricky Williams'], ['National League Division Series', 'Los Angeles Dodgers', 'Jeff Weaver', 'St. Louis', 'Houston Astros', 'Atlanta', 'Cy Young'], ['India', 'Chennai', 'Reuters', 'Wicket', 'Shane Warne'], ['Austria', 'Goalkeeper (association football)', 'Alex Manninger', 'Northern Ireland'], ['Formula One', 'Bernie Ecclestone', 'Silverstone Circuit'], ['Tony Cascarino', 'Manchester United F.C.', 'FA Cup'], ['Chaz Carr', 'Boston University'], ['Needham High School', 'Harvard University', 'Tackle (gridiron football position)', 'Varsity team', 'NCAA Division I'], ['Starkville, Mississippi', 'Mississippi'], ['Denver', 'Colorado', 'Colorado Rapids', 'Dan Counce'], ['Circuit de Spa-Francorchamps', 'McLaren', 'Kimi Räikkönen', 'Jenson Button', 'Michael Schumacher', 'Belgian Grand Prix'], [], ['Michelin', 'Shanghai'], ['Arsenal F.C.', 'Manchester', 'Manchester United F.C.', 'Penalty kick (association football)', 'Premier League'], ['Associated Press', 'Jay Fiedler', 'Miami Dolphins', 'Quarterback', 'Sage Rosenfels', 'Buffalo Bills', 'National Football League'], ['Brad Miller (basketball)'], ['Jeff Conine', 'Miami Marlins', 'Montreal Expos', 'Guaranteed Rate Field'], ['Frank Lampard', 'Chelsea F.C.', 'Forward (association football)', 'Eiður Guðjohnsen'], ['Associated Press', 'Bank', 'Austria', 'Field hockey'], ['Northern Ireland', 'Ireland', 'Lawrie Sanchez', 'Wales', 'Cardiff'], ['Paula Radcliffe']]\n"
     ]
    }
   ],
   "source": [
    "print(x[1])"
   ]
  },
  {
   "cell_type": "code",
   "execution_count": 8,
   "metadata": {},
   "outputs": [
    {
     "name": "stdout",
     "output_type": "stream",
     "text": [
      "[['General Motors', 'Automotive industry', 'Europe', 'North America'], ['Greenwich Mean Time', 'United States Treasury security', 'Trade', 'Price of oil', 'Petroleum', 'Economy of the United States'], ['Agence France-Presse', 'International Monetary Fund', 'Rodrigo Rato', 'Soviet Union', 'Vladimir Putin', 'Inflation', 'Gross domestic product'], ['Shareholder', 'The Walt Disney Company', 'Michael Ovitz'], ['South Africa', 'Mining', 'Gold mining', 'Gold Fields', 'Iamgold', 'Toronto', 'Harmony Gold (mining)'], ['Reuters', 'Federal government of the United States', 'Enron', 'Corporation', 'Stock', 'Chairperson', 'Kenneth Lay', 'Mergers and acquisitions', 'Bankruptcy'], ['Bankruptcy', 'Judge', 'Federal government of the United States', 'US Airways', 'Trade union', 'Working class', 'Airline', 'Time bomb'], ['PeopleSoft', 'Chief executive officer'], ['Conrad Black', 'United States', 'Lawsuit', 'The Daily Telegraph', 'Sun-Times Media Group'], ['AT&T Mobility', 'Wireless', 'United States dollar', 'Mergers and acquisitions'], ['Apple Inc.'], ['Government of Russia', 'Yukos', 'The Moscow Times', 'Moscow', 'Yury Trutnev'], ['Bill Gates', 'Washington Commanders', 'Daniel Snyder', 'Six Flags'], ['Electronics', 'Electronic Data Systems', 'DXC Technology', 'Computer', 'Corporation', 'Siebel Systems'], ['Sun Microsystems', 'Jonathan I. Schwartz', 'Red Hat', 'Red Hat Linux', 'Linux', 'X86', 'Daemon (computing)'], ['Japan', 'Mizuho Financial Group', 'Sumitomo Group', 'Sumitomo Mitsui Banking Corporation'], ['Reuters', 'Mortgage loan'], ['Reuters', 'United States', 'Tuberculosis'], ['Price of oil', 'Petroleum', 'Gulf of Mexico', 'Mexico'], ['Tokyo', 'Reuters', 'United States dollar', 'Technology', 'NEC', 'Corporation'], ['Tokyo', 'George W. Bush'], ['Corporation', 'Chief financial officer', 'Wall Street', 'Andrew Fastow', 'Merrill (company)', 'Call option', 'Fraud'], ['Inflation', 'Bank of England'], ['Reuters', 'Arch Resources', 'Coal', 'Mining'], ['Business Wire', 'Nvidia', 'Corporation', 'Intel', 'Patent'], ['Venezuela', 'Hugo Chávez', 'Petroleum'], ['The Conference Board', 'Economy', 'Economic growth', 'Price of oil'], ['California', 'CalPERS', 'Employment', 'Corporation'], ['Louisiana', 'Agriculture', 'Plant breeding', 'Mississippi', 'Fungus', 'Soybean', 'Soybean rust', 'Rust', 'Fungicide'], ['Reuters', 'Corporation', 'Beauty salon', 'Franchising', 'Profit (accounting)', 'Sales', 'Economic growth', 'Walmart', 'Retail'], ['Florida', 'Grapefruit'], ['Reuters', 'Tropical cyclone', 'Gulf of Mexico', 'Mexico', 'United States'], ['Reuters', 'Stock', 'Dell', 'Indian National Congress', 'Personal computer', 'Economic growth'], ['Black Friday (shopping)', 'Christmas'], ['Hong Kong', 'Pest control', 'President of the United States', 'Service (economics)', 'Rentokil Initial', 'United States dollar'], ['Google', 'Initial public offering', 'Internment Serial Number', 'Internet', 'United States'], ['Reuters', 'Enron', 'Corporation', 'Stock', 'Chief executive officer', 'Jeffrey Skilling', 'United States District Court for the Southern District of New York', 'Criminal procedure', 'Kenneth Lay'], ['HBOS', 'Abbey National', 'Spain', 'Santander, Spain'], ['Democratic Party (United States)', 'Fannie Mae'], ['Australian dollar', 'United States dollar'], ['Conrad Black', 'Canadian dollar'], ['Volkswagen']]\n"
     ]
    }
   ],
   "source": [
    "wikifier_results = load.wikifier_concepts()\n",
    "\n",
    "print(wikifier_results[0])"
   ]
  },
  {
   "cell_type": "code",
   "execution_count": 9,
   "metadata": {},
   "outputs": [
    {
     "name": "stdout",
     "output_type": "stream",
     "text": [
      "[['Manchester United F.C.', 'Alex Ferguson'], [], ['Japanese language', 'Japanese Grand Prix', 'Typhoon', 'Suzuka, Mie', 'Rain'], ['Tata Consultancy Services', 'Formula One', 'Information technology'], ['Tim Henman', 'Roger Federer', 'US Open (tennis)'], ['Woburn, Bedfordshire', 'Colin Montgomerie', 'Ryder Cup'], ['Arizona', 'Jamar Williams', 'Michael Jordan', 'Jordan Hill (basketball)', 'Oregon', 'Pac-12 Conference', 'Major League Baseball', 'The Baltimore Sun', 'Arizona State Sun Devils football', 'Oregon State Beavers football', 'Joe Newton (coach)', 'Touchback'], ['State police', 'Alcohol intoxication', 'National Football League', 'Justin Strzelczyk'], ['Ryan Newman (racing driver)', 'Pole position', 'Atlanta Motor Speedway', 'Indianapolis Motor Speedway', 'Georgia-Pacific'], ['Jason Terry', 'Dallas Mavericks', 'New York Knicks'], ['Boston Red Sox', 'Major League Baseball', 'Matt Clement', 'San Diego Padres', 'Farm team', 'Theo Epstein'], ['Tom Coughlin', 'Detroit'], ['Fred Couples', 'WGC Championship'], ['Dave Andreychuk', 'Stanley Cup'], ['Graeme Smith'], ['Goods', 'Mutual fund', 'Ronald S. Baron'], ['Markko Märtin', 'Rallying', 'Rally de Catalunya'], ['Minardi', 'Paul Stoddart'], ['Busch Stadium', 'Hard Rock Stadium', 'Baseball field', 'National League Championship Series', 'Houston Astros'], ['Detroit Pistons', 'Los Angeles Clippers', 'National Basketball Association', 'Elton Brand'], ['Reuters', 'Justin Gatlin', 'Olympic Games', 'Summer Olympic Games', 'Sprint (running)'], ['Michael Schumacher', 'Formula One'], ['Tiger Woods', 'Golf', 'Japan Golf Tour'], ['Grace Park (golfer)', 'Wachovia LPGA Classic', 'LPGA'], ['Jorge Posada', 'Puerto Rico'], ['Spain', 'England', 'Ashley Cole'], ['Gainesville, Florida', 'Steve Spurrier', 'Florida Gators'], ['PGA Tour'], ['Volleyball'], ['Arsène Wenger', 'Arsenal F.C.', 'Emirates Stadium'], ['Chelsea F.C.', 'Forward (association football)', 'EFL Cup', 'West Ham United F.C.'], ['Latrell Sprewell'], ['Athens', 'Lauryn Williams', 'American English'], ['Wales national football team', 'Dean Saunders', 'Philippe Troussier'], ['International Olympic Committee', 'Jacques Rogge', 'Italy', 'Silvio Berlusconi', 'Turin', 'Winter Olympic Games'], ['Television', 'Television show', 'East Lansing, Michigan', 'Lansing, Michigan', 'Michigan', 'Wide receiver', 'Irving, Texas', 'MacGyver (1985 TV series)', 'Bachelor of Arts', 'B. A. Baracus', 'Hannibal', 'John \"Hannibal\" Smith', 'The A-Team', 'Sitcom', 'Richard Dean Anderson'], ['Quarterback', 'Steve McNair', 'Free agent', 'Sternum'], ['Reuters', 'Miami Dolphins', 'Ricky Williams'], ['National League Division Series', 'Los Angeles Dodgers', 'Jeff Weaver', 'St. Louis', 'Houston Astros', 'Atlanta', 'Cy Young'], ['India', 'Chennai', 'Reuters', 'Wicket', 'Shane Warne'], ['Austria', 'Goalkeeper (association football)', 'Alex Manninger', 'Northern Ireland'], ['Formula One', 'Bernie Ecclestone', 'Silverstone Circuit'], ['Tony Cascarino', 'Manchester United F.C.', 'FA Cup'], ['Chaz Carr', 'Boston University'], ['Needham High School', 'Harvard University', 'Tackle (gridiron football position)', 'Varsity team', 'NCAA Division I'], ['Starkville, Mississippi', 'Mississippi'], ['Denver', 'Colorado', 'Colorado Rapids', 'Dan Counce'], ['Circuit de Spa-Francorchamps', 'McLaren', 'Kimi Räikkönen', 'Jenson Button', 'Michael Schumacher', 'Belgian Grand Prix'], [], ['Michelin', 'Shanghai'], ['Arsenal F.C.', 'Manchester', 'Manchester United F.C.', 'Penalty kick (association football)', 'Premier League'], ['Associated Press', 'Jay Fiedler', 'Miami Dolphins', 'Quarterback', 'Sage Rosenfels', 'Buffalo Bills', 'National Football League'], ['Brad Miller (basketball)'], ['Jeff Conine', 'Miami Marlins', 'Montreal Expos', 'Guaranteed Rate Field'], ['Frank Lampard', 'Chelsea F.C.', 'Forward (association football)', 'Eiður Guðjohnsen'], ['Associated Press', 'Bank', 'Austria', 'Field hockey'], ['Northern Ireland', 'Ireland', 'Lawrie Sanchez', 'Wales', 'Cardiff'], ['Paula Radcliffe']]\n"
     ]
    }
   ],
   "source": [
    "print(wikifier_results[1])"
   ]
  },
  {
   "cell_type": "code",
   "execution_count": 5,
   "metadata": {},
   "outputs": [
    {
     "name": "stdout",
     "output_type": "stream",
     "text": [
      "hello\n"
     ]
    }
   ],
   "source": [
    "from IPython.display import display, clear_output\n",
    "print(\"hello\")\n",
    "#clear the output of jupyter cell output\n",
    "clear_output()\n",
    "print(\"hello\")"
   ]
  },
  {
   "cell_type": "code",
   "execution_count": null,
   "metadata": {},
   "outputs": [],
   "source": []
  }
 ],
 "metadata": {
  "kernelspec": {
   "display_name": "Python 3",
   "language": "python",
   "name": "python3"
  },
  "language_info": {
   "codemirror_mode": {
    "name": "ipython",
    "version": 3
   },
   "file_extension": ".py",
   "mimetype": "text/x-python",
   "name": "python",
   "nbconvert_exporter": "python",
   "pygments_lexer": "ipython3",
   "version": "3.10.8"
  },
  "orig_nbformat": 4
 },
 "nbformat": 4,
 "nbformat_minor": 2
}
